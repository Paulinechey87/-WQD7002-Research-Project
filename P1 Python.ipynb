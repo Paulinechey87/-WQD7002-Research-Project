{
 "cells": [
  {
   "cell_type": "markdown",
   "metadata": {},
   "source": [
    "# Data Science Research Project P1 (WQD7002)\n",
    "## Title: Stock market prediction using machine learning models\n",
    "\n",
    "#### Matrix Number : 17051386/1\n",
    "\n",
    "#### Name                 : Chey Poh Lian"
   ]
  },
  {
   "cell_type": "code",
   "execution_count": 8,
   "metadata": {},
   "outputs": [],
   "source": [
    "#Install the dependencies\n",
    "import numpy as np\n",
    "import pandas as pd\n",
    "from sklearn.linear_model import LinearRegression\n",
    "from sklearn.tree import DecisionTreeRegressor\n",
    "from sklearn.svm import SVR\n",
    "from sklearn.model_selection import train_test_split\n",
    "import matplotlib.pyplot as plt"
   ]
  },
  {
   "cell_type": "code",
   "execution_count": 9,
   "metadata": {},
   "outputs": [
    {
     "name": "stdout",
     "output_type": "stream",
     "text": [
      "         Date   Open   High    Low  Close     Volume\n",
      "0  24/12/2020  131.3  133.5  131.1  132.0   54930100\n",
      "1  23/12/2020  132.2  132.4  130.8  131.0   88223700\n",
      "2  22/12/2020  131.6  134.4  129.6  131.9  168904800\n",
      "3  21/12/2020  125.0  128.3  123.4  128.2  121251600\n",
      "4  18/12/2020  129.0  129.1  126.1  126.7  192541500\n"
     ]
    }
   ],
   "source": [
    "# Get the stock data\n",
    "df = pd.read_csv('AAPL.csv')\n",
    "# Take a look at the data\n",
    "print(df.head())"
   ]
  },
  {
   "cell_type": "code",
   "execution_count": 10,
   "metadata": {},
   "outputs": [
    {
     "name": "stdout",
     "output_type": "stream",
     "text": [
      "   Close\n",
      "0  132.0\n",
      "1  131.0\n",
      "2  131.9\n",
      "3  128.2\n",
      "4  126.7\n"
     ]
    }
   ],
   "source": [
    "# Get the Close Price \n",
    "df = df[['Close']] \n",
    "# Take a look at the new data \n",
    "print(df.head())"
   ]
  },
  {
   "cell_type": "code",
   "execution_count": 11,
   "metadata": {},
   "outputs": [
    {
     "name": "stdout",
     "output_type": "stream",
     "text": [
      "     Close  Prediction\n",
      "247   74.4         NaN\n",
      "248   75.1         NaN\n",
      "249   73.4         NaN\n",
      "250   72.9         NaN\n",
      "251   72.4         NaN\n"
     ]
    }
   ],
   "source": [
    "# A variable for predicting 'n' days out into the future\n",
    "forecast_out = 30 #'n=30' days\n",
    "#Create another column (the target ) shifted 'n' units up\n",
    "df['Prediction'] = df[['Close']].shift(-forecast_out)\n",
    "#print the new data set\n",
    "print(df.tail())"
   ]
  },
  {
   "cell_type": "code",
   "execution_count": 12,
   "metadata": {},
   "outputs": [
    {
     "name": "stdout",
     "output_type": "stream",
     "text": [
      "[[132. ]\n",
      " [131. ]\n",
      " [131.9]\n",
      " [128.2]\n",
      " [126.7]\n",
      " [128.7]\n",
      " [127.8]\n",
      " [127.9]\n",
      " [121.8]\n",
      " [122.4]\n",
      " [123.2]\n",
      " [121.8]\n",
      " [124.4]\n",
      " [123.8]\n",
      " [122.3]\n",
      " [122.9]\n",
      " [123.1]\n",
      " [122.7]\n",
      " [119.1]\n",
      " [116.6]\n",
      " [116. ]\n",
      " [115.2]\n",
      " [113.8]\n",
      " [117.3]\n",
      " [118.6]\n",
      " [118. ]\n",
      " [119.4]\n",
      " [120.3]\n",
      " [119.3]\n",
      " [119.2]\n",
      " [119.5]\n",
      " [116. ]\n",
      " [116.3]\n",
      " [118.7]\n",
      " [119. ]\n",
      " [114.9]\n",
      " [110.4]\n",
      " [108.8]\n",
      " [108.9]\n",
      " [115.3]\n",
      " [111.2]\n",
      " [116.6]\n",
      " [115.1]\n",
      " [115. ]\n",
      " [115.8]\n",
      " [116.9]\n",
      " [117.5]\n",
      " [116. ]\n",
      " [119. ]\n",
      " [120.7]\n",
      " [121.2]\n",
      " [121.1]\n",
      " [124.4]\n",
      " [117. ]\n",
      " [115. ]\n",
      " [115.1]\n",
      " [113.2]\n",
      " [116.5]\n",
      " [113. ]\n",
      " [116.8]\n",
      " [115.8]\n",
      " [114.1]\n",
      " [115. ]\n",
      " [112.3]\n",
      " [108.2]\n",
      " [107.1]\n",
      " [111.8]\n",
      " [110.1]\n",
      " [106.8]\n",
      " [110.3]\n",
      " [112.1]\n",
      " [115.5]\n",
      " [115.4]\n",
      " [112. ]\n",
      " [113.5]\n",
      " [117.3]\n",
      " [112.8]\n",
      " [121. ]\n",
      " [120.9]\n",
      " [131.4]\n",
      " [134.2]\n",
      " [129. ]\n",
      " [124.8]\n",
      " [125. ]\n",
      " [126.5]\n",
      " [124.8]\n",
      " [125.9]\n",
      " [124.4]\n",
      " [118.3]\n",
      " [115.7]\n",
      " [115.6]\n",
      " [114.6]\n",
      " [114.9]\n",
      " [115. ]\n",
      " [113. ]\n",
      " [109.4]\n",
      " [112.7]\n",
      " [111.1]\n",
      " [113.9]\n",
      " [110.1]\n",
      " [109.7]\n",
      " [108.9]\n",
      " [106.3]\n",
      " [ 96.2]\n",
      " [ 95. ]\n",
      " [ 93.3]\n",
      " [ 94.8]\n",
      " [ 92.6]\n",
      " [ 92.8]\n",
      " [ 97.3]\n",
      " [ 97. ]\n",
      " [ 98.4]\n",
      " [ 96.3]\n",
      " [ 96.5]\n",
      " [ 97.7]\n",
      " [ 97.1]\n",
      " [ 95.5]\n",
      " [ 95.9]\n",
      " [ 95.8]\n",
      " [ 95.3]\n",
      " [ 93.2]\n",
      " [ 93.5]\n",
      " [ 91. ]\n",
      " [ 91. ]\n",
      " [ 91.2]\n",
      " [ 90.4]\n",
      " [ 88.4]\n",
      " [ 91.2]\n",
      " [ 90. ]\n",
      " [ 91.6]\n",
      " [ 89.7]\n",
      " [ 87.4]\n",
      " [ 87.9]\n",
      " [ 87.9]\n",
      " [ 88. ]\n",
      " [ 85.7]\n",
      " [ 84.7]\n",
      " [ 84. ]\n",
      " [ 88.2]\n",
      " [ 86. ]\n",
      " [ 83.4]\n",
      " [ 82.9]\n",
      " [ 80.6]\n",
      " [ 81.3]\n",
      " [ 80.8]\n",
      " [ 80.5]\n",
      " [ 79.5]\n",
      " [ 79.6]\n",
      " [ 79.5]\n",
      " [ 79.2]\n",
      " [ 79.7]\n",
      " [ 79.2]\n",
      " [ 79.8]\n",
      " [ 78.3]\n",
      " [ 78.7]\n",
      " [ 76.9]\n",
      " [ 77.4]\n",
      " [ 76.9]\n",
      " [ 77.9]\n",
      " [ 78.8]\n",
      " [ 77.5]\n",
      " [ 75.9]\n",
      " [ 75.2]\n",
      " [ 74.4]\n",
      " [ 73.3]\n",
      " [ 72.3]\n",
      " [ 73.4]\n",
      " [ 71.9]\n",
      " [ 69.6]\n",
      " [ 70.8]\n",
      " [ 70.7]\n",
      " [ 68.8]\n",
      " [ 69. ]\n",
      " [ 67.1]\n",
      " [ 69.2]\n",
      " [ 70.7]\n",
      " [ 71.7]\n",
      " [ 71.1]\n",
      " [ 71.8]\n",
      " [ 68.3]\n",
      " [ 67. ]\n",
      " [ 66.5]\n",
      " [ 64.9]\n",
      " [ 65.6]\n",
      " [ 60.4]\n",
      " [ 61.2]\n",
      " [ 60.2]\n",
      " [ 63.6]\n",
      " [ 63.7]\n",
      " [ 61.9]\n",
      " [ 64.6]\n",
      " [ 61.4]\n",
      " [ 61.7]\n",
      " [ 56.1]\n",
      " [ 57.3]\n",
      " [ 61.2]\n",
      " [ 61.7]\n",
      " [ 63.2]\n",
      " [ 60.6]\n",
      " [ 69.5]\n",
      " [ 62.1]\n",
      " [ 68.9]\n",
      " [ 71.3]\n",
      " [ 66.5]\n",
      " [ 72.3]\n",
      " [ 73.2]\n",
      " [ 75.7]\n",
      " [ 72.3]\n",
      " [ 74.7]\n",
      " [ 68.3]\n",
      " [ 68.4]\n",
      " [ 73.2]\n",
      " [ 72. ]\n",
      " [ 74.5]\n",
      " [ 78.3]\n",
      " [ 80.1]\n",
      " [ 80.9]\n",
      " [ 79.8]\n",
      " [ 81.2]\n",
      " [ 81.2]\n",
      " [ 81.8]\n",
      " [ 79.9]]\n"
     ]
    }
   ],
   "source": [
    "### Create the independent data set (X)  #######\n",
    "# Convert the dataframe to a numpy array\n",
    "X = np.array(df.drop(['Prediction'],1))\n",
    "\n",
    "#Remove the last '30' rows\n",
    "X = X[:-forecast_out]\n",
    "print(X)"
   ]
  },
  {
   "cell_type": "code",
   "execution_count": 13,
   "metadata": {},
   "outputs": [
    {
     "name": "stdout",
     "output_type": "stream",
     "text": [
      "[119.5 116.  116.3 118.7 119.  114.9 110.4 108.8 108.9 115.3 111.2 116.6\n",
      " 115.1 115.  115.8 116.9 117.5 116.  119.  120.7 121.2 121.1 124.4 117.\n",
      " 115.  115.1 113.2 116.5 113.  116.8 115.8 114.1 115.  112.3 108.2 107.1\n",
      " 111.8 110.1 106.8 110.3 112.1 115.5 115.4 112.  113.5 117.3 112.8 121.\n",
      " 120.9 131.4 134.2 129.  124.8 125.  126.5 124.8 125.9 124.4 118.3 115.7\n",
      " 115.6 114.6 114.9 115.  113.  109.4 112.7 111.1 113.9 110.1 109.7 108.9\n",
      " 106.3  96.2  95.   93.3  94.8  92.6  92.8  97.3  97.   98.4  96.3  96.5\n",
      "  97.7  97.1  95.5  95.9  95.8  95.3  93.2  93.5  91.   91.   91.2  90.4\n",
      "  88.4  91.2  90.   91.6  89.7  87.4  87.9  87.9  88.   85.7  84.7  84.\n",
      "  88.2  86.   83.4  82.9  80.6  81.3  80.8  80.5  79.5  79.6  79.5  79.2\n",
      "  79.7  79.2  79.8  78.3  78.7  76.9  77.4  76.9  77.9  78.8  77.5  75.9\n",
      "  75.2  74.4  73.3  72.3  73.4  71.9  69.6  70.8  70.7  68.8  69.   67.1\n",
      "  69.2  70.7  71.7  71.1  71.8  68.3  67.   66.5  64.9  65.6  60.4  61.2\n",
      "  60.2  63.6  63.7  61.9  64.6  61.4  61.7  56.1  57.3  61.2  61.7  63.2\n",
      "  60.6  69.5  62.1  68.9  71.3  66.5  72.3  73.2  75.7  72.3  74.7  68.3\n",
      "  68.4  73.2  72.   74.5  78.3  80.1  80.9  79.8  81.2  81.2  81.8  79.9\n",
      "  80.4  80.   81.3  80.4  79.7  77.2  77.4  81.   81.1  79.4  77.2  79.6\n",
      "  79.8  79.4  79.1  79.7  78.8  77.8  78.2  79.2  77.6  77.4  75.8  74.6\n",
      "  74.9  74.4  75.1  73.4  72.9  72.4]\n"
     ]
    }
   ],
   "source": [
    "### Create the dependent data set (y)  #####\n",
    "# Convert the dataframe to a numpy array \n",
    "y = np.array(df['Prediction'])\n",
    "# Get all of the y values except the last '30' rows\n",
    "y = y[:-forecast_out]\n",
    "print(y)"
   ]
  },
  {
   "cell_type": "code",
   "execution_count": 14,
   "metadata": {},
   "outputs": [],
   "source": [
    "# Split the data into 80% training and 20% testing\n",
    "x_train, x_test, y_train, y_test = train_test_split(X, y, test_size=0.2)"
   ]
  },
  {
   "cell_type": "code",
   "execution_count": 17,
   "metadata": {},
   "outputs": [
    {
     "data": {
      "text/plain": [
       "LinearRegression(copy_X=True, fit_intercept=True, n_jobs=None, normalize=False)"
      ]
     },
     "execution_count": 17,
     "metadata": {},
     "output_type": "execute_result"
    }
   ],
   "source": [
    "# Create and train the Linear Regression  Model\n",
    "lr = LinearRegression()\n",
    "# Train the model\n",
    "lr.fit(x_train, y_train)"
   ]
  },
  {
   "cell_type": "code",
   "execution_count": 18,
   "metadata": {},
   "outputs": [
    {
     "name": "stdout",
     "output_type": "stream",
     "text": [
      "lr confidence:  0.593278023435495\n"
     ]
    }
   ],
   "source": [
    "# Testing Model: Score returns the coefficient of determination R^2 of the prediction. \n",
    "# The best possible score is 1.0\n",
    "lr_confidence = lr.score(x_test, y_test)\n",
    "print(\"lr confidence: \", lr_confidence)"
   ]
  },
  {
   "cell_type": "code",
   "execution_count": 20,
   "metadata": {},
   "outputs": [
    {
     "data": {
      "text/plain": [
       "DecisionTreeRegressor(ccp_alpha=0.0, criterion='mse', max_depth=None,\n",
       "                      max_features=None, max_leaf_nodes=None,\n",
       "                      min_impurity_decrease=0.0, min_impurity_split=None,\n",
       "                      min_samples_leaf=1, min_samples_split=2,\n",
       "                      min_weight_fraction_leaf=0.0, presort='deprecated',\n",
       "                      random_state=None, splitter='best')"
      ]
     },
     "execution_count": 20,
     "metadata": {},
     "output_type": "execute_result"
    }
   ],
   "source": [
    "#Create the decision trees regressor model\n",
    "tree = DecisionTreeRegressor()\n",
    "# Train the model\n",
    "tree.fit(x_train, y_train)"
   ]
  },
  {
   "cell_type": "code",
   "execution_count": 21,
   "metadata": {},
   "outputs": [
    {
     "name": "stdout",
     "output_type": "stream",
     "text": [
      "tree confidence:  0.6063269698005415\n"
     ]
    }
   ],
   "source": [
    "# Testing Model: Score returns the coefficient of determination R^2 of the prediction. \n",
    "# The best possible score is 1.0\n",
    "tree_confidence = tree.score(x_test, y_test)\n",
    "print(\"tree confidence: \", tree_confidence)"
   ]
  },
  {
   "cell_type": "code",
   "execution_count": 15,
   "metadata": {},
   "outputs": [
    {
     "data": {
      "text/plain": [
       "SVR(C=1000.0, cache_size=200, coef0=0.0, degree=3, epsilon=0.1, gamma=0.1,\n",
       "    kernel='rbf', max_iter=-1, shrinking=True, tol=0.001, verbose=False)"
      ]
     },
     "execution_count": 15,
     "metadata": {},
     "output_type": "execute_result"
    }
   ],
   "source": [
    "# Create and train the Support Vector Machines (Regressor) \n",
    "svr_rbf = SVR(kernel='rbf', C=1e3, gamma=0.1) \n",
    "svr_rbf.fit(x_train, y_train)"
   ]
  },
  {
   "cell_type": "code",
   "execution_count": 16,
   "metadata": {},
   "outputs": [
    {
     "name": "stdout",
     "output_type": "stream",
     "text": [
      "svm confidence:  0.7173074947341116\n"
     ]
    }
   ],
   "source": [
    "# Testing Model: Score returns the coefficient of determination R^2 of the prediction. \n",
    "# The best possible score is 1.0\n",
    "svm_confidence = svr_rbf.score(x_test, y_test)\n",
    "print(\"svm confidence: \", svm_confidence)"
   ]
  },
  {
   "cell_type": "code",
   "execution_count": 22,
   "metadata": {},
   "outputs": [
    {
     "name": "stdout",
     "output_type": "stream",
     "text": [
      "[[80.4]\n",
      " [80. ]\n",
      " [81.3]\n",
      " [80.4]\n",
      " [79.7]\n",
      " [77.2]\n",
      " [77.4]\n",
      " [81. ]\n",
      " [81.1]\n",
      " [79.4]\n",
      " [77.2]\n",
      " [79.6]\n",
      " [79.8]\n",
      " [79.4]\n",
      " [79.1]\n",
      " [79.7]\n",
      " [78.8]\n",
      " [77.8]\n",
      " [78.2]\n",
      " [79.2]\n",
      " [77.6]\n",
      " [77.4]\n",
      " [75.8]\n",
      " [74.6]\n",
      " [74.9]\n",
      " [74.4]\n",
      " [75.1]\n",
      " [73.4]\n",
      " [72.9]\n",
      " [72.4]]\n"
     ]
    }
   ],
   "source": [
    "# Set x_forecast equal to the last 30 rows of the original data set from Close column\n",
    "x_forecast = np.array(df.drop(['Prediction'],1))[-forecast_out:]\n",
    "print(x_forecast)"
   ]
  },
  {
   "cell_type": "code",
   "execution_count": 23,
   "metadata": {},
   "outputs": [
    {
     "name": "stdout",
     "output_type": "stream",
     "text": [
      "[77.16915704 76.85955146 77.8657696  77.16915704 76.62734728 74.6923124\n",
      " 74.84711519 77.63356541 77.71096681 76.39514309 74.6923124  76.54994588\n",
      " 76.70474867 76.39514309 76.16293891 76.62734728 75.93073472 75.15672077\n",
      " 75.46632635 76.2403403  75.00191798 74.84711519 73.60869287 72.67987613\n",
      " 72.91208032 72.52507334 73.06688311 71.75105939 71.36405242 70.97704544]\n"
     ]
    }
   ],
   "source": [
    "# Print linear regression model predictions for the next '30' days\n",
    "lr_prediction = lr.predict(x_forecast)\n",
    "print(lr_prediction)"
   ]
  },
  {
   "cell_type": "code",
   "execution_count": 24,
   "metadata": {},
   "outputs": [
    {
     "name": "stdout",
     "output_type": "stream",
     "text": [
      "[70.7        72.4        67.1        70.7        67.         60.2\n",
      " 60.2        74.9        74.25       71.7        60.2        71.1\n",
      " 69.65       71.7        67.4        67.         60.4        63.7\n",
      " 70.7        67.4        64.6        60.2        61.4        78.8\n",
      " 78.8        56.1        61.7        61.7        79.4        73.56666667]\n"
     ]
    }
   ],
   "source": [
    "# Print decision trees model predictions for the next '30' days\n",
    "tree_prediction = tree.predict(x_forecast)\n",
    "print(tree_prediction)"
   ]
  },
  {
   "cell_type": "code",
   "execution_count": 25,
   "metadata": {},
   "outputs": [
    {
     "name": "stdout",
     "output_type": "stream",
     "text": [
      "[73.01182155 72.21192123 73.2221634  73.01182155 71.33870184 61.99579857\n",
      " 62.3640611  73.38640058 73.35554248 70.2594968  61.99579857 71.00015193\n",
      " 71.65424244 70.2594968  69.01564402 71.33870184 67.66624069 63.45647641\n",
      " 64.9697157  69.44529194 62.85158115 62.3640611  61.50717739 62.25682048\n",
      " 61.80286636 62.75244898 61.64701416 67.79896226 71.07095413 73.61701805]\n"
     ]
    }
   ],
   "source": [
    "# Print support vector regressor model predictions for the next '30' days\n",
    "svm_prediction = svr_rbf.predict(x_forecast)\n",
    "print(svm_prediction)"
   ]
  },
  {
   "cell_type": "code",
   "execution_count": null,
   "metadata": {},
   "outputs": [],
   "source": []
  }
 ],
 "metadata": {
  "kernelspec": {
   "display_name": "Python 3",
   "language": "python",
   "name": "python3"
  },
  "language_info": {
   "codemirror_mode": {
    "name": "ipython",
    "version": 3
   },
   "file_extension": ".py",
   "mimetype": "text/x-python",
   "name": "python",
   "nbconvert_exporter": "python",
   "pygments_lexer": "ipython3",
   "version": "3.7.6"
  }
 },
 "nbformat": 4,
 "nbformat_minor": 4
}
