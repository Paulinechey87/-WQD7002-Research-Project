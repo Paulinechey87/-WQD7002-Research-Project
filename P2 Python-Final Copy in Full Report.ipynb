{
 "cells": [
  {
   "cell_type": "markdown",
   "metadata": {},
   "source": [
    "# Data Science Research Project P2 (WQD7002)\n",
    "## Title: Stock market prediction using machine learning models\n",
    "\n",
    "#### Matrix Number : 17051386/1\n",
    "\n",
    "#### Name                 : Chey Poh Lian"
   ]
  },
  {
   "cell_type": "code",
   "execution_count": 139,
   "metadata": {},
   "outputs": [],
   "source": [
    "#Install the dependencies\n",
    "import numpy as np\n",
    "import pandas as pd\n",
    "from sklearn.linear_model import LinearRegression\n",
    "from sklearn.tree import DecisionTreeRegressor\n",
    "from sklearn.svm import SVR\n",
    "from sklearn.model_selection import train_test_split\n",
    "import matplotlib.pyplot as plt"
   ]
  },
  {
   "cell_type": "code",
   "execution_count": 140,
   "metadata": {},
   "outputs": [
    {
     "name": "stdout",
     "output_type": "stream",
     "text": [
      "       Date   Open   High    Low  Close     Volume\n",
      "0  2/1/2020  74.06  75.15  73.80  75.09  135480400\n",
      "1  3/1/2020  74.29  75.14  74.13  74.36  146322800\n",
      "2  6/1/2020  73.45  74.99  73.19  74.95  118387200\n",
      "3  7/1/2020  74.96  75.22  74.37  74.60  108872000\n",
      "4  8/1/2020  74.29  76.11  74.29  75.80  132079200\n"
     ]
    }
   ],
   "source": [
    "# Get the stock data\n",
    "df = pd.read_csv('AAPL.csv')\n",
    "# Take a look at the data\n",
    "print(df.head())"
   ]
  },
  {
   "cell_type": "code",
   "execution_count": 141,
   "metadata": {},
   "outputs": [
    {
     "name": "stdout",
     "output_type": "stream",
     "text": [
      "            Open        High         Low       Close        Volume\n",
      "count  252.00000  252.000000  252.000000  252.000000  2.520000e+02\n",
      "mean    95.11377   96.510754   93.762857   95.198849  1.577966e+08\n",
      "std     21.91846   22.007283   21.490150   21.725303  6.987198e+07\n",
      "min     57.02000   57.130000   53.150000   56.090000  4.669130e+07\n",
      "25%     76.97500   78.112500   76.182500   77.387500  1.113394e+08\n",
      "50%     91.26500   92.795000   90.740000   91.420000  1.381294e+08\n",
      "75%    115.80750  117.265000  114.130000  115.720000  1.875871e+08\n",
      "max    138.05000  138.790000  134.340000  136.690000  4.265100e+08\n"
     ]
    }
   ],
   "source": [
    "print(df.describe())"
   ]
  },
  {
   "cell_type": "code",
   "execution_count": 142,
   "metadata": {},
   "outputs": [
    {
     "data": {
      "text/html": [
       "<div>\n",
       "<style scoped>\n",
       "    .dataframe tbody tr th:only-of-type {\n",
       "        vertical-align: middle;\n",
       "    }\n",
       "\n",
       "    .dataframe tbody tr th {\n",
       "        vertical-align: top;\n",
       "    }\n",
       "\n",
       "    .dataframe thead th {\n",
       "        text-align: right;\n",
       "    }\n",
       "</style>\n",
       "<table border=\"1\" class=\"dataframe\">\n",
       "  <thead>\n",
       "    <tr style=\"text-align: right;\">\n",
       "      <th></th>\n",
       "      <th>count</th>\n",
       "      <th>mean</th>\n",
       "      <th>std</th>\n",
       "      <th>min</th>\n",
       "      <th>25%</th>\n",
       "      <th>50%</th>\n",
       "      <th>75%</th>\n",
       "      <th>max</th>\n",
       "    </tr>\n",
       "  </thead>\n",
       "  <tbody>\n",
       "    <tr>\n",
       "      <th>Open</th>\n",
       "      <td>252.0</td>\n",
       "      <td>9.511377e+01</td>\n",
       "      <td>2.191846e+01</td>\n",
       "      <td>57.02</td>\n",
       "      <td>7.697500e+01</td>\n",
       "      <td>9.126500e+01</td>\n",
       "      <td>1.158075e+02</td>\n",
       "      <td>1.380500e+02</td>\n",
       "    </tr>\n",
       "    <tr>\n",
       "      <th>High</th>\n",
       "      <td>252.0</td>\n",
       "      <td>9.651075e+01</td>\n",
       "      <td>2.200728e+01</td>\n",
       "      <td>57.13</td>\n",
       "      <td>7.811250e+01</td>\n",
       "      <td>9.279500e+01</td>\n",
       "      <td>1.172650e+02</td>\n",
       "      <td>1.387900e+02</td>\n",
       "    </tr>\n",
       "    <tr>\n",
       "      <th>Low</th>\n",
       "      <td>252.0</td>\n",
       "      <td>9.376286e+01</td>\n",
       "      <td>2.149015e+01</td>\n",
       "      <td>53.15</td>\n",
       "      <td>7.618250e+01</td>\n",
       "      <td>9.074000e+01</td>\n",
       "      <td>1.141300e+02</td>\n",
       "      <td>1.343400e+02</td>\n",
       "    </tr>\n",
       "    <tr>\n",
       "      <th>Close</th>\n",
       "      <td>252.0</td>\n",
       "      <td>9.519885e+01</td>\n",
       "      <td>2.172530e+01</td>\n",
       "      <td>56.09</td>\n",
       "      <td>7.738750e+01</td>\n",
       "      <td>9.142000e+01</td>\n",
       "      <td>1.157200e+02</td>\n",
       "      <td>1.366900e+02</td>\n",
       "    </tr>\n",
       "    <tr>\n",
       "      <th>Volume</th>\n",
       "      <td>252.0</td>\n",
       "      <td>1.577966e+08</td>\n",
       "      <td>6.987198e+07</td>\n",
       "      <td>46691300.00</td>\n",
       "      <td>1.113394e+08</td>\n",
       "      <td>1.381294e+08</td>\n",
       "      <td>1.875871e+08</td>\n",
       "      <td>4.265100e+08</td>\n",
       "    </tr>\n",
       "  </tbody>\n",
       "</table>\n",
       "</div>"
      ],
      "text/plain": [
       "        count          mean           std          min           25%  \\\n",
       "Open    252.0  9.511377e+01  2.191846e+01        57.02  7.697500e+01   \n",
       "High    252.0  9.651075e+01  2.200728e+01        57.13  7.811250e+01   \n",
       "Low     252.0  9.376286e+01  2.149015e+01        53.15  7.618250e+01   \n",
       "Close   252.0  9.519885e+01  2.172530e+01        56.09  7.738750e+01   \n",
       "Volume  252.0  1.577966e+08  6.987198e+07  46691300.00  1.113394e+08   \n",
       "\n",
       "                 50%           75%           max  \n",
       "Open    9.126500e+01  1.158075e+02  1.380500e+02  \n",
       "High    9.279500e+01  1.172650e+02  1.387900e+02  \n",
       "Low     9.074000e+01  1.141300e+02  1.343400e+02  \n",
       "Close   9.142000e+01  1.157200e+02  1.366900e+02  \n",
       "Volume  1.381294e+08  1.875871e+08  4.265100e+08  "
      ]
     },
     "execution_count": 142,
     "metadata": {},
     "output_type": "execute_result"
    }
   ],
   "source": [
    "df.describe().transpose()"
   ]
  },
  {
   "cell_type": "code",
   "execution_count": 143,
   "metadata": {},
   "outputs": [
    {
     "data": {
      "text/html": [
       "<div>\n",
       "<style scoped>\n",
       "    .dataframe tbody tr th:only-of-type {\n",
       "        vertical-align: middle;\n",
       "    }\n",
       "\n",
       "    .dataframe tbody tr th {\n",
       "        vertical-align: top;\n",
       "    }\n",
       "\n",
       "    .dataframe thead th {\n",
       "        text-align: right;\n",
       "    }\n",
       "</style>\n",
       "<table border=\"1\" class=\"dataframe\">\n",
       "  <thead>\n",
       "    <tr style=\"text-align: right;\">\n",
       "      <th></th>\n",
       "      <th>count</th>\n",
       "      <th>unique</th>\n",
       "      <th>top</th>\n",
       "      <th>freq</th>\n",
       "    </tr>\n",
       "  </thead>\n",
       "  <tbody>\n",
       "    <tr>\n",
       "      <th>Date</th>\n",
       "      <td>252</td>\n",
       "      <td>252</td>\n",
       "      <td>5/5/2020</td>\n",
       "      <td>1</td>\n",
       "    </tr>\n",
       "  </tbody>\n",
       "</table>\n",
       "</div>"
      ],
      "text/plain": [
       "     count unique       top freq\n",
       "Date   252    252  5/5/2020    1"
      ]
     },
     "execution_count": 143,
     "metadata": {},
     "output_type": "execute_result"
    }
   ],
   "source": [
    "df.describe(include=['object']).transpose()"
   ]
  },
  {
   "cell_type": "code",
   "execution_count": 144,
   "metadata": {},
   "outputs": [
    {
     "data": {
      "text/plain": [
       "Date      0\n",
       "Open      0\n",
       "High      0\n",
       "Low       0\n",
       "Close     0\n",
       "Volume    0\n",
       "dtype: int64"
      ]
     },
     "execution_count": 144,
     "metadata": {},
     "output_type": "execute_result"
    }
   ],
   "source": [
    "df.isna().sum()"
   ]
  },
  {
   "cell_type": "code",
   "execution_count": 145,
   "metadata": {},
   "outputs": [
    {
     "name": "stdout",
     "output_type": "stream",
     "text": [
      "       Date  Close\n",
      "0  2/1/2020  75.09\n",
      "1  3/1/2020  74.36\n",
      "2  6/1/2020  74.95\n",
      "3  7/1/2020  74.60\n",
      "4  8/1/2020  75.80\n"
     ]
    }
   ],
   "source": [
    "# Get the Date and Close Price \n",
    "df = df[['Date','Close']] \n",
    "# Take a look at the new data \n",
    "print(df.head())"
   ]
  },
  {
   "cell_type": "code",
   "execution_count": 146,
   "metadata": {},
   "outputs": [
    {
     "data": {
      "image/png": "[encoded data removed]",
      "text/plain": [
       "<Figure size 432x288 with 1 Axes>"
      ]
     },
     "metadata": {
      "needs_background": "light"
     },
     "output_type": "display_data"
    }
   ],
   "source": [
    "df.plot(x=\"Date\", y=[\"Close\"])\n",
    "plt.show()"
   ]
  },
  {
   "cell_type": "code",
   "execution_count": 147,
   "metadata": {},
   "outputs": [
    {
     "name": "stdout",
     "output_type": "stream",
     "text": [
      "   Close\n",
      "0  75.09\n",
      "1  74.36\n",
      "2  74.95\n",
      "3  74.60\n",
      "4  75.80\n"
     ]
    }
   ],
   "source": [
    "# Get the Close Price \n",
    "df = df[['Close']] \n",
    "# Take a look at the new data \n",
    "print(df.head())"
   ]
  },
  {
   "cell_type": "code",
   "execution_count": 148,
   "metadata": {},
   "outputs": [
    {
     "name": "stdout",
     "output_type": "stream",
     "text": [
      "            Close\n",
      "count  252.000000\n",
      "mean    95.198849\n",
      "std     21.725303\n",
      "min     56.090000\n",
      "25%     77.387500\n",
      "50%     91.420000\n",
      "75%    115.720000\n",
      "max    136.690000\n"
     ]
    }
   ],
   "source": [
    "print(df.describe())"
   ]
  },
  {
   "cell_type": "code",
   "execution_count": 149,
   "metadata": {},
   "outputs": [
    {
     "data": {
      "text/html": [
       "<div>\n",
       "<style scoped>\n",
       "    .dataframe tbody tr th:only-of-type {\n",
       "        vertical-align: middle;\n",
       "    }\n",
       "\n",
       "    .dataframe tbody tr th {\n",
       "        vertical-align: top;\n",
       "    }\n",
       "\n",
       "    .dataframe thead th {\n",
       "        text-align: right;\n",
       "    }\n",
       "</style>\n",
       "<table border=\"1\" class=\"dataframe\">\n",
       "  <thead>\n",
       "    <tr style=\"text-align: right;\">\n",
       "      <th></th>\n",
       "      <th>count</th>\n",
       "      <th>mean</th>\n",
       "      <th>std</th>\n",
       "      <th>min</th>\n",
       "      <th>25%</th>\n",
       "      <th>50%</th>\n",
       "      <th>75%</th>\n",
       "      <th>max</th>\n",
       "    </tr>\n",
       "  </thead>\n",
       "  <tbody>\n",
       "    <tr>\n",
       "      <th>Close</th>\n",
       "      <td>252.0</td>\n",
       "      <td>95.198849</td>\n",
       "      <td>21.725303</td>\n",
       "      <td>56.09</td>\n",
       "      <td>77.3875</td>\n",
       "      <td>91.42</td>\n",
       "      <td>115.72</td>\n",
       "      <td>136.69</td>\n",
       "    </tr>\n",
       "  </tbody>\n",
       "</table>\n",
       "</div>"
      ],
      "text/plain": [
       "       count       mean        std    min      25%    50%     75%     max\n",
       "Close  252.0  95.198849  21.725303  56.09  77.3875  91.42  115.72  136.69"
      ]
     },
     "execution_count": 149,
     "metadata": {},
     "output_type": "execute_result"
    }
   ],
   "source": [
    "df.describe().transpose()"
   ]
  },
  {
   "cell_type": "code",
   "execution_count": 150,
   "metadata": {
    "scrolled": true
   },
   "outputs": [
    {
     "data": {
      "image/png": "[encoded data removed]",
      "text/plain": [
       "<Figure size 432x288 with 1 Axes>"
      ]
     },
     "metadata": {
      "needs_background": "light"
     },
     "output_type": "display_data"
    }
   ],
   "source": [
    "x = df\n",
    "x = np.random.normal(95, 22, 252)\n",
    "plt.hist(x)\n",
    "plt.title(\"Histogram for Close Price\")\n",
    "plt.xlabel(\"Close Price\")\n",
    "plt.ylabel(\"Frequency\")\n",
    "plt.show()"
   ]
  },
  {
   "cell_type": "code",
   "execution_count": 151,
   "metadata": {},
   "outputs": [
    {
     "data": {
      "image/png": "[encoded data removed]",
      "text/plain": [
       "<Figure size 720x504 with 1 Axes>"
      ]
     },
     "metadata": {
      "needs_background": "light"
     },
     "output_type": "display_data"
    }
   ],
   "source": [
    "# Creating dataset\n",
    "data = x\n",
    "np.random.seed(10)\n",
    "data = np.random.normal(95, 22, 252)\n",
    " \n",
    "fig = plt.figure(figsize =(10, 7))\n",
    " \n",
    "# Creating plot\n",
    "plt.boxplot(data)\n",
    "plt.title(\"Boxplot of Close Price\")\n",
    "plt.ylabel(\"Close Price\")\n",
    "\n",
    "# show plot\n",
    "plt.show()"
   ]
  },
  {
   "cell_type": "code",
   "execution_count": 152,
   "metadata": {},
   "outputs": [
    {
     "name": "stdout",
     "output_type": "stream",
     "text": [
      "      Close  Prediction\n",
      "247  130.96         NaN\n",
      "248  131.97         NaN\n",
      "249  136.69         NaN\n",
      "250  134.87         NaN\n",
      "251  133.72         NaN\n"
     ]
    }
   ],
   "source": [
    "# A variable for predicting 'n' days out into the future\n",
    "forecast_out = 30 #'n=30' days\n",
    "#Create another column (the target ) shifted 'n' units up\n",
    "df['Prediction'] = df[['Close']].shift(-forecast_out)\n",
    "#print the new data set\n",
    "print(df.tail())"
   ]
  },
  {
   "cell_type": "code",
   "execution_count": 153,
   "metadata": {},
   "outputs": [
    {
     "name": "stdout",
     "output_type": "stream",
     "text": [
      "[[ 75.09]\n",
      " [ 74.36]\n",
      " [ 74.95]\n",
      " [ 74.6 ]\n",
      " [ 75.8 ]\n",
      " [ 77.41]\n",
      " [ 77.58]\n",
      " [ 79.24]\n",
      " [ 78.17]\n",
      " [ 77.83]\n",
      " [ 78.81]\n",
      " [ 79.68]\n",
      " [ 79.14]\n",
      " [ 79.43]\n",
      " [ 79.81]\n",
      " [ 79.58]\n",
      " [ 77.24]\n",
      " [ 79.42]\n",
      " [ 81.08]\n",
      " [ 80.97]\n",
      " [ 77.38]\n",
      " [ 77.17]\n",
      " [ 79.71]\n",
      " [ 80.36]\n",
      " [ 81.3 ]\n",
      " [ 80.01]\n",
      " [ 80.39]\n",
      " [ 79.9 ]\n",
      " [ 81.8 ]\n",
      " [ 81.22]\n",
      " [ 81.24]\n",
      " [ 79.75]\n",
      " [ 80.9 ]\n",
      " [ 80.07]\n",
      " [ 78.26]\n",
      " [ 74.54]\n",
      " [ 72.02]\n",
      " [ 73.16]\n",
      " [ 68.38]\n",
      " [ 68.34]\n",
      " [ 74.7 ]\n",
      " [ 72.33]\n",
      " [ 75.68]\n",
      " [ 73.23]\n",
      " [ 72.26]\n",
      " [ 66.54]\n",
      " [ 71.33]\n",
      " [ 68.86]\n",
      " [ 62.06]\n",
      " [ 69.49]\n",
      " [ 60.55]\n",
      " [ 63.22]\n",
      " [ 61.67]\n",
      " [ 61.2 ]\n",
      " [ 57.31]\n",
      " [ 56.09]\n",
      " [ 61.72]\n",
      " [ 61.38]\n",
      " [ 64.61]\n",
      " [ 61.94]\n",
      " [ 63.7 ]\n",
      " [ 63.57]\n",
      " [ 60.23]\n",
      " [ 61.23]\n",
      " [ 60.35]\n",
      " [ 65.62]\n",
      " [ 64.86]\n",
      " [ 66.52]\n",
      " [ 67.  ]\n",
      " [ 68.31]\n",
      " [ 71.76]\n",
      " [ 71.11]\n",
      " [ 71.67]\n",
      " [ 70.7 ]\n",
      " [ 69.23]\n",
      " [ 67.09]\n",
      " [ 69.03]\n",
      " [ 68.76]\n",
      " [ 70.74]\n",
      " [ 70.79]\n",
      " [ 69.64]\n",
      " [ 71.93]\n",
      " [ 73.45]\n",
      " [ 72.27]\n",
      " [ 73.29]\n",
      " [ 74.39]\n",
      " [ 75.16]\n",
      " [ 75.93]\n",
      " [ 77.53]\n",
      " [ 78.75]\n",
      " [ 77.85]\n",
      " [ 76.91]\n",
      " [ 77.39]\n",
      " [ 76.93]\n",
      " [ 78.74]\n",
      " [ 78.29]\n",
      " [ 79.81]\n",
      " [ 79.21]\n",
      " [ 79.72]\n",
      " [ 79.18]\n",
      " [ 79.53]\n",
      " [ 79.56]\n",
      " [ 79.49]\n",
      " [ 80.46]\n",
      " [ 80.83]\n",
      " [ 81.28]\n",
      " [ 80.58]\n",
      " [ 82.88]\n",
      " [ 83.36]\n",
      " [ 86.  ]\n",
      " [ 88.21]\n",
      " [ 83.97]\n",
      " [ 84.7 ]\n",
      " [ 85.75]\n",
      " [ 88.02]\n",
      " [ 87.9 ]\n",
      " [ 87.93]\n",
      " [ 87.43]\n",
      " [ 89.72]\n",
      " [ 91.63]\n",
      " [ 90.01]\n",
      " [ 91.21]\n",
      " [ 88.41]\n",
      " [ 90.45]\n",
      " [ 91.2 ]\n",
      " [ 91.03]\n",
      " [ 91.03]\n",
      " [ 93.46]\n",
      " [ 93.17]\n",
      " [ 95.34]\n",
      " [ 95.75]\n",
      " [ 95.92]\n",
      " [ 95.48]\n",
      " [ 97.06]\n",
      " [ 97.72]\n",
      " [ 96.52]\n",
      " [ 96.33]\n",
      " [ 98.36]\n",
      " [ 97.  ]\n",
      " [ 97.27]\n",
      " [ 92.85]\n",
      " [ 92.61]\n",
      " [ 94.81]\n",
      " [ 93.25]\n",
      " [ 95.04]\n",
      " [ 96.19]\n",
      " [106.26]\n",
      " [108.94]\n",
      " [109.67]\n",
      " [110.06]\n",
      " [113.9 ]\n",
      " [111.11]\n",
      " [112.73]\n",
      " [109.38]\n",
      " [113.01]\n",
      " [115.01]\n",
      " [114.91]\n",
      " [114.61]\n",
      " [115.56]\n",
      " [115.71]\n",
      " [118.28]\n",
      " [124.37]\n",
      " [125.86]\n",
      " [124.82]\n",
      " [126.52]\n",
      " [125.01]\n",
      " [124.81]\n",
      " [129.04]\n",
      " [134.18]\n",
      " [131.4 ]\n",
      " [120.88]\n",
      " [120.96]\n",
      " [112.82]\n",
      " [117.32]\n",
      " [113.49]\n",
      " [112.  ]\n",
      " [115.36]\n",
      " [115.54]\n",
      " [112.13]\n",
      " [110.34]\n",
      " [106.84]\n",
      " [110.08]\n",
      " [111.81]\n",
      " [107.12]\n",
      " [108.22]\n",
      " [112.28]\n",
      " [114.96]\n",
      " [114.09]\n",
      " [115.81]\n",
      " [116.79]\n",
      " [113.02]\n",
      " [116.5 ]\n",
      " [113.16]\n",
      " [115.08]\n",
      " [114.97]\n",
      " [116.97]\n",
      " [124.4 ]\n",
      " [121.1 ]\n",
      " [121.19]\n",
      " [120.71]\n",
      " [119.02]\n",
      " [115.98]\n",
      " [117.51]\n",
      " [116.87]\n",
      " [115.75]\n",
      " [115.04]\n",
      " [115.05]\n",
      " [116.6 ]\n",
      " [111.2 ]\n",
      " [115.32]\n",
      " [108.86]\n",
      " [108.77]\n",
      " [110.44]\n",
      " [114.95]\n",
      " [119.03]\n",
      " [118.69]\n",
      " [116.32]\n",
      " [115.97]\n",
      " [119.49]\n",
      " [119.21]\n",
      " [119.26]\n",
      " [120.3 ]]\n"
     ]
    }
   ],
   "source": [
    "### Create the independent data set (X)  #######\n",
    "# Convert the dataframe to a numpy array\n",
    "X = np.array(df.drop(['Prediction'],1))\n",
    "\n",
    "#Remove the last '30' rows\n",
    "X = X[:-forecast_out]\n",
    "print(X)"
   ]
  },
  {
   "cell_type": "code",
   "execution_count": 154,
   "metadata": {},
   "outputs": [
    {
     "name": "stdout",
     "output_type": "stream",
     "text": [
      "[ 81.24  79.75  80.9   80.07  78.26  74.54  72.02  73.16  68.38  68.34\n",
      "  74.7   72.33  75.68  73.23  72.26  66.54  71.33  68.86  62.06  69.49\n",
      "  60.55  63.22  61.67  61.2   57.31  56.09  61.72  61.38  64.61  61.94\n",
      "  63.7   63.57  60.23  61.23  60.35  65.62  64.86  66.52  67.    68.31\n",
      "  71.76  71.11  71.67  70.7   69.23  67.09  69.03  68.76  70.74  70.79\n",
      "  69.64  71.93  73.45  72.27  73.29  74.39  75.16  75.93  77.53  78.75\n",
      "  77.85  76.91  77.39  76.93  78.74  78.29  79.81  79.21  79.72  79.18\n",
      "  79.53  79.56  79.49  80.46  80.83  81.28  80.58  82.88  83.36  86.\n",
      "  88.21  83.97  84.7   85.75  88.02  87.9   87.93  87.43  89.72  91.63\n",
      "  90.01  91.21  88.41  90.45  91.2   91.03  91.03  93.46  93.17  95.34\n",
      "  95.75  95.92  95.48  97.06  97.72  96.52  96.33  98.36  97.    97.27\n",
      "  92.85  92.61  94.81  93.25  95.04  96.19 106.26 108.94 109.67 110.06\n",
      " 113.9  111.11 112.73 109.38 113.01 115.01 114.91 114.61 115.56 115.71\n",
      " 118.28 124.37 125.86 124.82 126.52 125.01 124.81 129.04 134.18 131.4\n",
      " 120.88 120.96 112.82 117.32 113.49 112.   115.36 115.54 112.13 110.34\n",
      " 106.84 110.08 111.81 107.12 108.22 112.28 114.96 114.09 115.81 116.79\n",
      " 113.02 116.5  113.16 115.08 114.97 116.97 124.4  121.1  121.19 120.71\n",
      " 119.02 115.98 117.51 116.87 115.75 115.04 115.05 116.6  111.2  115.32\n",
      " 108.86 108.77 110.44 114.95 119.03 118.69 116.32 115.97 119.49 119.21\n",
      " 119.26 120.3  119.39 118.03 118.64 117.34 113.85 115.17 116.03 116.59\n",
      " 119.05 122.72 123.08 122.94 122.25 123.75 124.38 121.78 123.24 122.41\n",
      " 121.78 127.88 127.81 128.7  126.66 128.23 131.88 130.96 131.97 136.69\n",
      " 134.87 133.72]\n"
     ]
    }
   ],
   "source": [
    "### Create the dependent data set (y)  #####\n",
    "# Convert the dataframe to a numpy array \n",
    "y = np.array(df['Prediction'])\n",
    "# Get all of the y values except the last '30' rows\n",
    "y = y[:-forecast_out]\n",
    "print(y)"
   ]
  },
  {
   "cell_type": "code",
   "execution_count": 155,
   "metadata": {},
   "outputs": [],
   "source": [
    "# Split the data into 80% training and 20% testing\n",
    "x_train, x_test, y_train, y_test = train_test_split(X, y, test_size=0.2)"
   ]
  },
  {
   "cell_type": "code",
   "execution_count": 156,
   "metadata": {},
   "outputs": [
    {
     "data": {
      "text/plain": [
       "LinearRegression(copy_X=True, fit_intercept=True, n_jobs=None, normalize=False)"
      ]
     },
     "execution_count": 156,
     "metadata": {},
     "output_type": "execute_result"
    }
   ],
   "source": [
    "# Create and train the Linear Regression  Model\n",
    "lr = LinearRegression()\n",
    "# Train the model\n",
    "lr.fit(x_train, y_train)"
   ]
  },
  {
   "cell_type": "code",
   "execution_count": 157,
   "metadata": {},
   "outputs": [
    {
     "name": "stdout",
     "output_type": "stream",
     "text": [
      "lr confidence:  0.7232095159872804\n"
     ]
    }
   ],
   "source": [
    "# Testing Model: Score returns the coefficient of determination R^2 of the prediction. \n",
    "# The best possible score is 1.0\n",
    "lr_confidence = lr.score(x_test, y_test)\n",
    "print(\"lr confidence: \", lr_confidence)"
   ]
  },
  {
   "cell_type": "code",
   "execution_count": 158,
   "metadata": {},
   "outputs": [
    {
     "data": {
      "text/plain": [
       "DecisionTreeRegressor(ccp_alpha=0.0, criterion='mse', max_depth=None,\n",
       "                      max_features=None, max_leaf_nodes=None,\n",
       "                      min_impurity_decrease=0.0, min_impurity_split=None,\n",
       "                      min_samples_leaf=1, min_samples_split=2,\n",
       "                      min_weight_fraction_leaf=0.0, presort='deprecated',\n",
       "                      random_state=None, splitter='best')"
      ]
     },
     "execution_count": 158,
     "metadata": {},
     "output_type": "execute_result"
    }
   ],
   "source": [
    "#Create the decision trees regressor model\n",
    "tree = DecisionTreeRegressor()\n",
    "# Train the model\n",
    "tree.fit(x_train, y_train)"
   ]
  },
  {
   "cell_type": "code",
   "execution_count": 159,
   "metadata": {},
   "outputs": [
    {
     "name": "stdout",
     "output_type": "stream",
     "text": [
      "tree confidence:  0.8224904247800612\n"
     ]
    }
   ],
   "source": [
    "# Testing Model: Score returns the coefficient of determination R^2 of the prediction. \n",
    "# The best possible score is 1.0\n",
    "tree_confidence = tree.score(x_test, y_test)\n",
    "print(\"tree confidence: \", tree_confidence)"
   ]
  },
  {
   "cell_type": "code",
   "execution_count": 160,
   "metadata": {},
   "outputs": [
    {
     "data": {
      "text/plain": [
       "SVR(C=1000.0, cache_size=200, coef0=0.0, degree=3, epsilon=0.1, gamma=0.1,\n",
       "    kernel='rbf', max_iter=-1, shrinking=True, tol=0.001, verbose=False)"
      ]
     },
     "execution_count": 160,
     "metadata": {},
     "output_type": "execute_result"
    }
   ],
   "source": [
    "# Create and train the Support Vector Machines (Regressor) \n",
    "svr_rbf = SVR(kernel='rbf', C=1e3, gamma=0.1) \n",
    "svr_rbf.fit(x_train, y_train)"
   ]
  },
  {
   "cell_type": "code",
   "execution_count": 161,
   "metadata": {},
   "outputs": [
    {
     "name": "stdout",
     "output_type": "stream",
     "text": [
      "svm confidence:  0.8663144754712243\n"
     ]
    }
   ],
   "source": [
    "# Testing Model: Score returns the coefficient of determination R^2 of the prediction. \n",
    "# The best possible score is 1.0\n",
    "svm_confidence = svr_rbf.score(x_test, y_test)\n",
    "print(\"svm confidence: \", svm_confidence)"
   ]
  },
  {
   "cell_type": "code",
   "execution_count": 162,
   "metadata": {},
   "outputs": [
    {
     "name": "stdout",
     "output_type": "stream",
     "text": [
      "[[119.39]\n",
      " [118.03]\n",
      " [118.64]\n",
      " [117.34]\n",
      " [113.85]\n",
      " [115.17]\n",
      " [116.03]\n",
      " [116.59]\n",
      " [119.05]\n",
      " [122.72]\n",
      " [123.08]\n",
      " [122.94]\n",
      " [122.25]\n",
      " [123.75]\n",
      " [124.38]\n",
      " [121.78]\n",
      " [123.24]\n",
      " [122.41]\n",
      " [121.78]\n",
      " [127.88]\n",
      " [127.81]\n",
      " [128.7 ]\n",
      " [126.66]\n",
      " [128.23]\n",
      " [131.88]\n",
      " [130.96]\n",
      " [131.97]\n",
      " [136.69]\n",
      " [134.87]\n",
      " [133.72]]\n"
     ]
    }
   ],
   "source": [
    "# Set x_forecast equal to the last 30 rows of the original data set from Close column\n",
    "x_forecast = np.array(df.drop(['Prediction'],1))[-forecast_out:]\n",
    "print(x_forecast)"
   ]
  },
  {
   "cell_type": "code",
   "execution_count": 163,
   "metadata": {},
   "outputs": [
    {
     "name": "stdout",
     "output_type": "stream",
     "text": [
      "[123.17534245 121.92377297 122.48513869 121.28878552 118.07703737\n",
      " 119.29179598 120.08322962 120.59858176 122.86245008 126.23984712\n",
      " 126.57114492 126.44230689 125.80731943 127.18772695 127.7674981\n",
      " 125.37479175 126.71838839 125.9545629  125.37479175 130.98844896\n",
      " 130.92402994 131.74307173 129.86571752 131.31054404 134.66953565\n",
      " 133.82288571 134.7523601  139.0960424  137.42114796 136.36283553]\n"
     ]
    }
   ],
   "source": [
    "# Print linear regression model predictions for the next '30' days\n",
    "lr_prediction = lr.predict(x_forecast)\n",
    "print(lr_prediction)"
   ]
  },
  {
   "cell_type": "code",
   "execution_count": 164,
   "metadata": {},
   "outputs": [
    {
     "name": "stdout",
     "output_type": "stream",
     "text": [
      "[131.97 123.08 128.23 116.87 106.84 124.38 122.72 120.3  136.69 116.03\n",
      " 116.5  116.5  116.03 116.5  116.5  116.03 116.5  116.03 116.03 114.97\n",
      " 114.97 114.97 114.97 114.97 120.71 120.71 120.71 121.19 121.19 121.19]\n"
     ]
    }
   ],
   "source": [
    "# Print decision trees model predictions for the next '30' days\n",
    "tree_prediction = tree.predict(x_forecast)\n",
    "print(tree_prediction)"
   ]
  },
  {
   "cell_type": "code",
   "execution_count": 165,
   "metadata": {},
   "outputs": [
    {
     "name": "stdout",
     "output_type": "stream",
     "text": [
      "[132.12563711 125.39328917 129.29044668 122.47380072 115.24337829\n",
      " 117.19371845 120.22939303 121.2640378  131.43107297 105.58425231\n",
      " 107.76582789 106.79994334 104.79849667 113.03865107 116.43115756\n",
      " 107.10235939 108.98971863 104.74328476 107.10235939 121.82261694\n",
      " 121.36251492 126.04824786 115.18005191 123.96344502 119.95560622\n",
      " 121.81121459 119.91046489 111.93501824 119.85901934 121.18888763]\n"
     ]
    }
   ],
   "source": [
    "# Print support vector regressor model predictions for the next '30' days\n",
    "svm_prediction = svr_rbf.predict(x_forecast)\n",
    "print(svm_prediction)"
   ]
  },
  {
   "cell_type": "code",
   "execution_count": null,
   "metadata": {},
   "outputs": [],
   "source": []
  },
  {
   "cell_type": "code",
   "execution_count": null,
   "metadata": {},
   "outputs": [],
   "source": []
  },
  {
   "cell_type": "code",
   "execution_count": null,
   "metadata": {},
   "outputs": [],
   "source": []
  }
 ],
 "metadata": {
  "kernelspec": {
   "display_name": "Python 3",
   "language": "python",
   "name": "python3"
  },
  "language_info": {
   "codemirror_mode": {
    "name": "ipython",
    "version": 3
   },
   "file_extension": ".py",
   "mimetype": "text/x-python",
   "name": "python",
   "nbconvert_exporter": "python",
   "pygments_lexer": "ipython3",
   "version": "3.7.6"
  }
 },
 "nbformat": 4,
 "nbformat_minor": 4
}
