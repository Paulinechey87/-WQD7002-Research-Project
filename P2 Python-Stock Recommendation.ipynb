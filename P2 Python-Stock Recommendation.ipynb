{
 "cells": [
  {
   "cell_type": "markdown",
   "metadata": {},
   "source": [
    "# Data Science Research Project P2 (WQD7002)\n",
    "## Title: Stock market prediction using machine learning models\n",
    "\n",
    "#### Matrix Number : 17051386/1\n",
    "\n",
    "#### Name                 : Chey Poh Lian"
   ]
  },
  {
   "cell_type": "code",
   "execution_count": 60,
   "metadata": {},
   "outputs": [],
   "source": [
    "#Install the dependencies\n",
    "import numpy as np\n",
    "import pandas as pd\n",
    "from sklearn.linear_model import LinearRegression\n",
    "from sklearn.tree import DecisionTreeRegressor\n",
    "from sklearn.svm import SVR\n",
    "from sklearn.model_selection import train_test_split\n",
    "import matplotlib.pyplot as plt"
   ]
  },
  {
   "cell_type": "code",
   "execution_count": 61,
   "metadata": {},
   "outputs": [
    {
     "name": "stdout",
     "output_type": "stream",
     "text": [
      "   Day  Linear Regression  Decision Trees  Support Vector Machines\n",
      "0    1         123.175342          131.97               132.125637\n",
      "1    2         121.923773          123.08               125.393289\n",
      "2    3         122.485139          128.23               129.290447\n",
      "3    4         121.288786          116.87               122.473801\n",
      "4    5         118.077037          106.84               115.243378\n"
     ]
    }
   ],
   "source": [
    "# Get the stock data\n",
    "df = pd.read_csv('Next 30 days stock price.csv')\n",
    "# Take a look at the data\n",
    "print(df.head())"
   ]
  },
  {
   "cell_type": "code",
   "execution_count": 62,
   "metadata": {},
   "outputs": [
    {
     "name": "stdout",
     "output_type": "stream",
     "text": [
      "             Day  Linear Regression  Decision Trees  Support Vector Machines\n",
      "count  30.000000          30.000000       30.000000                30.000000\n",
      "mean   15.500000         127.472704      119.142667               117.334597\n",
      "std     8.803408           5.662610        5.750504                 8.050301\n",
      "min     1.000000         118.077037      106.840000               104.743285\n",
      "25%     8.250000         122.940673      116.030000               109.726044\n",
      "50%    15.500000         126.506726      116.500000               119.884742\n",
      "75%    22.750000         131.230020      121.190000               121.819766\n",
      "max    30.000000         139.096042      136.690000               132.125637\n"
     ]
    }
   ],
   "source": [
    "print(df.describe())"
   ]
  },
  {
   "cell_type": "code",
   "execution_count": 63,
   "metadata": {},
   "outputs": [
    {
     "data": {
      "text/html": [
       "<div>\n",
       "<style scoped>\n",
       "    .dataframe tbody tr th:only-of-type {\n",
       "        vertical-align: middle;\n",
       "    }\n",
       "\n",
       "    .dataframe tbody tr th {\n",
       "        vertical-align: top;\n",
       "    }\n",
       "\n",
       "    .dataframe thead th {\n",
       "        text-align: right;\n",
       "    }\n",
       "</style>\n",
       "<table border=\"1\" class=\"dataframe\">\n",
       "  <thead>\n",
       "    <tr style=\"text-align: right;\">\n",
       "      <th></th>\n",
       "      <th>count</th>\n",
       "      <th>mean</th>\n",
       "      <th>std</th>\n",
       "      <th>min</th>\n",
       "      <th>25%</th>\n",
       "      <th>50%</th>\n",
       "      <th>75%</th>\n",
       "      <th>max</th>\n",
       "    </tr>\n",
       "  </thead>\n",
       "  <tbody>\n",
       "    <tr>\n",
       "      <th>Day</th>\n",
       "      <td>30.0</td>\n",
       "      <td>15.500000</td>\n",
       "      <td>8.803408</td>\n",
       "      <td>1.000000</td>\n",
       "      <td>8.250000</td>\n",
       "      <td>15.500000</td>\n",
       "      <td>22.750000</td>\n",
       "      <td>30.000000</td>\n",
       "    </tr>\n",
       "    <tr>\n",
       "      <th>Linear Regression</th>\n",
       "      <td>30.0</td>\n",
       "      <td>127.472704</td>\n",
       "      <td>5.662610</td>\n",
       "      <td>118.077037</td>\n",
       "      <td>122.940673</td>\n",
       "      <td>126.506726</td>\n",
       "      <td>131.230020</td>\n",
       "      <td>139.096042</td>\n",
       "    </tr>\n",
       "    <tr>\n",
       "      <th>Decision Trees</th>\n",
       "      <td>30.0</td>\n",
       "      <td>119.142667</td>\n",
       "      <td>5.750504</td>\n",
       "      <td>106.840000</td>\n",
       "      <td>116.030000</td>\n",
       "      <td>116.500000</td>\n",
       "      <td>121.190000</td>\n",
       "      <td>136.690000</td>\n",
       "    </tr>\n",
       "    <tr>\n",
       "      <th>Support Vector Machines</th>\n",
       "      <td>30.0</td>\n",
       "      <td>117.334597</td>\n",
       "      <td>8.050301</td>\n",
       "      <td>104.743285</td>\n",
       "      <td>109.726044</td>\n",
       "      <td>119.884742</td>\n",
       "      <td>121.819766</td>\n",
       "      <td>132.125637</td>\n",
       "    </tr>\n",
       "  </tbody>\n",
       "</table>\n",
       "</div>"
      ],
      "text/plain": [
       "                         count        mean       std         min         25%  \\\n",
       "Day                       30.0   15.500000  8.803408    1.000000    8.250000   \n",
       "Linear Regression         30.0  127.472704  5.662610  118.077037  122.940673   \n",
       "Decision Trees            30.0  119.142667  5.750504  106.840000  116.030000   \n",
       "Support Vector Machines   30.0  117.334597  8.050301  104.743285  109.726044   \n",
       "\n",
       "                                50%         75%         max  \n",
       "Day                       15.500000   22.750000   30.000000  \n",
       "Linear Regression        126.506726  131.230020  139.096042  \n",
       "Decision Trees           116.500000  121.190000  136.690000  \n",
       "Support Vector Machines  119.884742  121.819766  132.125637  "
      ]
     },
     "execution_count": 63,
     "metadata": {},
     "output_type": "execute_result"
    }
   ],
   "source": [
    "df.describe().transpose()"
   ]
  },
  {
   "cell_type": "code",
   "execution_count": 64,
   "metadata": {},
   "outputs": [],
   "source": [
    "pd.DataFrame(df.describe().transpose()).to_excel(r'C:\\Users\\admin\\Desktop\\Excel Data\\SavedFile_Statistic.xlsx', index = False)"
   ]
  },
  {
   "cell_type": "code",
   "execution_count": 65,
   "metadata": {},
   "outputs": [
    {
     "data": {
      "text/plain": [
       "Day                        0\n",
       "Linear Regression          0\n",
       "Decision Trees             0\n",
       "Support Vector Machines    0\n",
       "dtype: int64"
      ]
     },
     "execution_count": 65,
     "metadata": {},
     "output_type": "execute_result"
    }
   ],
   "source": [
    "df.isna().sum()"
   ]
  },
  {
   "cell_type": "code",
   "execution_count": 66,
   "metadata": {},
   "outputs": [
    {
     "name": "stdout",
     "output_type": "stream",
     "text": [
      "   Day  Linear Regression  Decision Trees  Support Vector Machines\n",
      "0    1         123.175342          131.97               132.125637\n",
      "1    2         121.923773          123.08               125.393289\n",
      "2    3         122.485139          128.23               129.290447\n",
      "3    4         121.288786          116.87               122.473801\n",
      "4    5         118.077037          106.84               115.243378\n"
     ]
    }
   ],
   "source": [
    "# Get the Date and Close Price \n",
    "df = df[['Day','Linear Regression','Decision Trees','Support Vector Machines']] \n",
    "# Take a look at the new data \n",
    "print(df.head())"
   ]
  },
  {
   "cell_type": "code",
   "execution_count": 67,
   "metadata": {},
   "outputs": [
    {
     "data": {
      "image/png": "[encoded data removed]",
      "text/plain": [
       "<Figure size 432x288 with 1 Axes>"
      ]
     },
     "metadata": {
      "needs_background": "light"
     },
     "output_type": "display_data"
    }
   ],
   "source": [
    "df.plot(x=\"Day\", y=[\"Linear Regression\"])\n",
    "plt.show()"
   ]
  },
  {
   "cell_type": "code",
   "execution_count": 68,
   "metadata": {},
   "outputs": [
    {
     "data": {
      "image/png": "[encoded data removed]",
      "text/plain": [
       "<Figure size 432x288 with 1 Axes>"
      ]
     },
     "metadata": {
      "needs_background": "light"
     },
     "output_type": "display_data"
    }
   ],
   "source": [
    "df.plot(x=\"Day\", y=[\"Decision Trees\"])\n",
    "plt.show()"
   ]
  },
  {
   "cell_type": "code",
   "execution_count": 69,
   "metadata": {},
   "outputs": [
    {
     "data": {
      "image/png": "[encoded data removed]",
      "text/plain": [
       "<Figure size 432x288 with 1 Axes>"
      ]
     },
     "metadata": {
      "needs_background": "light"
     },
     "output_type": "display_data"
    }
   ],
   "source": [
    "df.plot(x=\"Day\", y=[\"Support Vector Machines\"])\n",
    "plt.show()"
   ]
  },
  {
   "cell_type": "code",
   "execution_count": null,
   "metadata": {},
   "outputs": [],
   "source": []
  },
  {
   "cell_type": "code",
   "execution_count": null,
   "metadata": {},
   "outputs": [],
   "source": []
  },
  {
   "cell_type": "code",
   "execution_count": null,
   "metadata": {},
   "outputs": [],
   "source": []
  }
 ],
 "metadata": {
  "kernelspec": {
   "display_name": "Python 3",
   "language": "python",
   "name": "python3"
  },
  "language_info": {
   "codemirror_mode": {
    "name": "ipython",
    "version": 3
   },
   "file_extension": ".py",
   "mimetype": "text/x-python",
   "name": "python",
   "nbconvert_exporter": "python",
   "pygments_lexer": "ipython3",
   "version": "3.7.6"
  }
 },
 "nbformat": 4,
 "nbformat_minor": 4
}
